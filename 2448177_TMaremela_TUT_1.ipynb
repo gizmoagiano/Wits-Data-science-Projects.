{
 "cells": [
  {
   "cell_type": "code",
   "execution_count": null,
   "id": "9a7d78d4-8f25-4733-96e2-06e3659b8e85",
   "metadata": {},
   "outputs": [],
   "source": []
  }
 ],
 "metadata": {
  "kernelspec": {
   "display_name": "Python [conda env:base] *",
   "language": "python",
   "name": "conda-base-py"
  },
  "language_info": {
   "name": ""
  }
 },
 "nbformat": 4,
 "nbformat_minor": 5
}

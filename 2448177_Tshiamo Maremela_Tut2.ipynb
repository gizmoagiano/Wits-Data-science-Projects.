{
 "cells": [
  {
   "cell_type": "code",
   "execution_count": 3,
   "id": "9e028247-0e6c-42dd-bdb7-8951e008ca36",
   "metadata": {},
   "outputs": [
    {
     "data": {
      "text/plain": [
       "<bound method NDFrame.head of      \"Children are safe among family members such as grandparents, uncles, aunts, cousins\"  \\\n",
       "0                                                 Agree                                      \n",
       "1                                                 Agree                                      \n",
       "2                                              Disagree                                      \n",
       "3                                                 Agree                                      \n",
       "4                                                 Agree                                      \n",
       "...                                                 ...                                      \n",
       "2997                                              Agree                                      \n",
       "2998                                              Agree                                      \n",
       "2999                                              Agree                                      \n",
       "3000                                           Disagree                                      \n",
       "3001                                           Disagree                                      \n",
       "\n",
       "     \"Children are mainly abused by strangers in our society\"  \\\n",
       "0                                                 Agree         \n",
       "1                                                 Agree         \n",
       "2                                              Disagree         \n",
       "3                                                 Agree         \n",
       "4                                              Disagree         \n",
       "...                                                 ...         \n",
       "2997                                              Agree         \n",
       "2998                                              Agree         \n",
       "2999                                              Agree         \n",
       "3000                                              Agree         \n",
       "3001                                           Disagree         \n",
       "\n",
       "     Male children dont need sexual abuse prevention knowledge  \\\n",
       "0                                              Disagree          \n",
       "1                                              Disagree          \n",
       "2                                              Disagree          \n",
       "3                                              Disagree          \n",
       "4                                              Disagree          \n",
       "...                                                 ...          \n",
       "2997                                           Disagree          \n",
       "2998                                           Disagree          \n",
       "2999                                              Agree          \n",
       "3000                                              Agree          \n",
       "3001                                              Agree          \n",
       "\n",
       "     \"Teaching sexual abuse prevention in school is not necessary. It will make children curious about sex\"  \\\n",
       "0                                                 Agree                                                       \n",
       "1                                              Disagree                                                       \n",
       "2                                              Disagree                                                       \n",
       "3                                              Disagree                                                       \n",
       "4                                              Disagree                                                       \n",
       "...                                                 ...                                                       \n",
       "2997                                           Disagree                                                       \n",
       "2998                                           Disagree                                                       \n",
       "2999                                              Agree                                                       \n",
       "3000                                              Agree                                                       \n",
       "3001                                           Disagree                                                       \n",
       "\n",
       "     Do you know what child grooming is?  \\\n",
       "0                                     No   \n",
       "1                                     No   \n",
       "2                                     No   \n",
       "3                                     No   \n",
       "4                                    Yes   \n",
       "...                                  ...   \n",
       "2997                                  No   \n",
       "2998                                  No   \n",
       "2999                                  No   \n",
       "3000                                 Yes   \n",
       "3001                                  No   \n",
       "\n",
       "     Do you know what signs to look for to identify if your child has been abused?  \\\n",
       "0                                                    No                              \n",
       "1                                                    No                              \n",
       "2                                                    No                              \n",
       "3                                                    No                              \n",
       "4                                                   Yes                              \n",
       "...                                                 ...                              \n",
       "2997                                                 No                              \n",
       "2998                                                Yes                              \n",
       "2999                                                 No                              \n",
       "3000                                                Yes                              \n",
       "3001                                                 No                              \n",
       "\n",
       "     Do you think children need post abuse counseling for recovering?  \\\n",
       "0                                                    No                 \n",
       "1                                                   Yes                 \n",
       "2                                                   Yes                 \n",
       "3                                                   Yes                 \n",
       "4                                                   Yes                 \n",
       "...                                                 ...                 \n",
       "2997                                                Yes                 \n",
       "2998                                                Yes                 \n",
       "2999                                                 No                 \n",
       "3000                                                Yes                 \n",
       "3001                                                Yes                 \n",
       "\n",
       "     Do you think you should take legal action against the abuser of your child?  \\\n",
       "0                                                   Yes                            \n",
       "1                                                   Yes                            \n",
       "2                                                   Yes                            \n",
       "3                                                   Yes                            \n",
       "4                                                   Yes                            \n",
       "...                                                 ...                            \n",
       "2997                                                Yes                            \n",
       "2998                                                 No                            \n",
       "2999                                                 No                            \n",
       "3000                                                Yes                            \n",
       "3001                                                 No                            \n",
       "\n",
       "     Knowledge Level  \n",
       "0           Beginner  \n",
       "1           Beginner  \n",
       "2           Beginner  \n",
       "3           Beginner  \n",
       "4       Intermediate  \n",
       "...              ...  \n",
       "2997    Intermediate  \n",
       "2998        Beginner  \n",
       "2999        Beginner  \n",
       "3000        Beginner  \n",
       "3001        Beginner  \n",
       "\n",
       "[3002 rows x 9 columns]>"
      ]
     },
     "execution_count": 3,
     "metadata": {},
     "output_type": "execute_result"
    }
   ],
   "source": [
    "import pandas as pd \n",
    "data=pd.read_csv(\"CSA-Data.csv\")\n",
    "data.head"
   ]
  },
  {
   "cell_type": "code",
   "execution_count": 5,
   "id": "e06060f9-b269-4a3e-89c2-00c273fb2416",
   "metadata": {},
   "outputs": [
    {
     "data": {
      "text/plain": [
       "(3002, 9)"
      ]
     },
     "execution_count": 5,
     "metadata": {},
     "output_type": "execute_result"
    }
   ],
   "source": [
    "data.shape"
   ]
  },
  {
   "cell_type": "markdown",
   "id": "18c99072-3e45-4709-bb18-88b4d5724547",
   "metadata": {},
   "source": [
    "There are 3002 rows and 9 columns(attributes)"
   ]
  },
  {
   "cell_type": "code",
   "execution_count": 8,
   "id": "d1f53041-6232-424b-aa7b-5a7f71bd1912",
   "metadata": {},
   "outputs": [
    {
     "name": "stdout",
     "output_type": "stream",
     "text": [
      "<class 'pandas.core.frame.DataFrame'>\n",
      "RangeIndex: 3002 entries, 0 to 3001\n",
      "Data columns (total 9 columns):\n",
      " #   Column                                                                                                  Non-Null Count  Dtype \n",
      "---  ------                                                                                                  --------------  ----- \n",
      " 0   \"Children are safe among family members such as grandparents, uncles, aunts, cousins\"                   3002 non-null   object\n",
      " 1   \"Children are mainly abused by strangers in our society\"                                                3002 non-null   object\n",
      " 2   Male children dont need sexual abuse prevention knowledge                                               3002 non-null   object\n",
      " 3   \"Teaching sexual abuse prevention in school is not necessary. It will make children curious about sex\"  3002 non-null   object\n",
      " 4   Do you know what child grooming is?                                                                     3002 non-null   object\n",
      " 5   Do you know what signs to look for to identify if your child has been abused?                           3002 non-null   object\n",
      " 6   Do you think children need post abuse counseling for recovering?                                        3002 non-null   object\n",
      " 7   Do you think you should take legal action against the abuser of your child?                             3002 non-null   object\n",
      " 8   Knowledge Level                                                                                         3002 non-null   object\n",
      "dtypes: object(9)\n",
      "memory usage: 211.2+ KB\n"
     ]
    }
   ],
   "source": [
    "data.info()"
   ]
  },
  {
   "cell_type": "code",
   "execution_count": 10,
   "id": "dce0916b-a65f-460b-8da9-47b9d780d3e5",
   "metadata": {},
   "outputs": [
    {
     "data": {
      "text/plain": [
       "\"Children are safe among family members such as grandparents, uncles, aunts, cousins\"                     0\n",
       "\"Children are mainly abused by strangers in our society\"                                                  0\n",
       "Male children dont need sexual abuse prevention knowledge                                                 0\n",
       "\"Teaching sexual abuse prevention in school is not necessary. It will make children curious about sex\"    0\n",
       "Do you know what child grooming is?                                                                       0\n",
       "Do you know what signs to look for to identify if your child has been abused?                             0\n",
       "Do you think children need post abuse counseling for recovering?                                          0\n",
       "Do you think you should take legal action against the abuser of your child?                               0\n",
       "Knowledge Level                                                                                           0\n",
       "dtype: int64"
      ]
     },
     "execution_count": 10,
     "metadata": {},
     "output_type": "execute_result"
    }
   ],
   "source": [
    "data.isnull().sum()\n"
   ]
  },
  {
   "cell_type": "markdown",
   "id": "3da6ce1a-85bb-4c12-a4bb-6218ad1397f9",
   "metadata": {},
   "source": [
    "Based on the above data, we can see that there are no missing values."
   ]
  },
  {
   "cell_type": "code",
   "execution_count": 40,
   "id": "c60bfb75-8e94-4683-9d2f-a9da2fd0324e",
   "metadata": {},
   "outputs": [
    {
     "name": "stdout",
     "output_type": "stream",
     "text": [
      "2755\n"
     ]
    }
   ],
   "source": [
    "print(data.duplicated().sum())"
   ]
  },
  {
   "cell_type": "markdown",
   "id": "60a8bb60-798f-4ee0-b8d8-8cc2436f3810",
   "metadata": {},
   "source": [
    "There are 2755 duplicated rows, and this might affect our analysis. We can remove them to ensure data quality."
   ]
  },
  {
   "cell_type": "code",
   "execution_count": 55,
   "id": "73844841-d62d-4d32-8f2c-ece8f23a8331",
   "metadata": {},
   "outputs": [],
   "source": [
    "data= data.drop_duplicates()"
   ]
  },
  {
   "cell_type": "markdown",
   "id": "cb2062c1-3aae-469a-91c5-da869470b490",
   "metadata": {},
   "source": [
    "The above query is used to remove duplicate entries."
   ]
  },
  {
   "cell_type": "code",
   "execution_count": 61,
   "id": "88ca298e-50c9-4a17-9212-af66c08ea2b7",
   "metadata": {},
   "outputs": [
    {
     "name": "stdout",
     "output_type": "stream",
     "text": [
      "0\n"
     ]
    }
   ],
   "source": [
    "print(data.duplicated().sum())"
   ]
  },
  {
   "cell_type": "markdown",
   "id": "50ae6d2d-2b35-45fb-b155-fe8c8b8eec3f",
   "metadata": {},
   "source": [
    "The value (0) indicates that we have dropped duplicate entries."
   ]
  },
  {
   "cell_type": "code",
   "execution_count": 48,
   "id": "ea3af610-7190-45b0-9556-af84ea0fddc8",
   "metadata": {},
   "outputs": [
    {
     "data": {
      "text/html": [
       "<div>\n",
       "<style scoped>\n",
       "    .dataframe tbody tr th:only-of-type {\n",
       "        vertical-align: middle;\n",
       "    }\n",
       "\n",
       "    .dataframe tbody tr th {\n",
       "        vertical-align: top;\n",
       "    }\n",
       "\n",
       "    .dataframe thead th {\n",
       "        text-align: right;\n",
       "    }\n",
       "</style>\n",
       "<table border=\"1\" class=\"dataframe\">\n",
       "  <thead>\n",
       "    <tr style=\"text-align: right;\">\n",
       "      <th></th>\n",
       "      <th>\"Children are safe among family members such as grandparents, uncles, aunts, cousins\"</th>\n",
       "      <th>\"Children are mainly abused by strangers in our society\"</th>\n",
       "      <th>Male children dont need sexual abuse prevention knowledge</th>\n",
       "      <th>\"Teaching sexual abuse prevention in school is not necessary. It will make children curious about sex\"</th>\n",
       "      <th>Do you know what child grooming is?</th>\n",
       "      <th>Do you know what signs to look for to identify if your child has been abused?</th>\n",
       "      <th>Do you think children need post abuse counseling for recovering?</th>\n",
       "      <th>Do you think you should take legal action against the abuser of your child?</th>\n",
       "      <th>Knowledge Level</th>\n",
       "    </tr>\n",
       "  </thead>\n",
       "  <tbody>\n",
       "    <tr>\n",
       "      <th>count</th>\n",
       "      <td>247</td>\n",
       "      <td>247</td>\n",
       "      <td>247</td>\n",
       "      <td>247</td>\n",
       "      <td>247</td>\n",
       "      <td>247</td>\n",
       "      <td>247</td>\n",
       "      <td>247</td>\n",
       "      <td>247</td>\n",
       "    </tr>\n",
       "    <tr>\n",
       "      <th>unique</th>\n",
       "      <td>2</td>\n",
       "      <td>2</td>\n",
       "      <td>2</td>\n",
       "      <td>2</td>\n",
       "      <td>2</td>\n",
       "      <td>2</td>\n",
       "      <td>2</td>\n",
       "      <td>2</td>\n",
       "      <td>2</td>\n",
       "    </tr>\n",
       "    <tr>\n",
       "      <th>top</th>\n",
       "      <td>Disagree</td>\n",
       "      <td>Disagree</td>\n",
       "      <td>Disagree</td>\n",
       "      <td>Disagree</td>\n",
       "      <td>No</td>\n",
       "      <td>No</td>\n",
       "      <td>Yes</td>\n",
       "      <td>Yes</td>\n",
       "      <td>Beginner</td>\n",
       "    </tr>\n",
       "    <tr>\n",
       "      <th>freq</th>\n",
       "      <td>124</td>\n",
       "      <td>130</td>\n",
       "      <td>137</td>\n",
       "      <td>125</td>\n",
       "      <td>127</td>\n",
       "      <td>127</td>\n",
       "      <td>146</td>\n",
       "      <td>137</td>\n",
       "      <td>181</td>\n",
       "    </tr>\n",
       "  </tbody>\n",
       "</table>\n",
       "</div>"
      ],
      "text/plain": [
       "       \"Children are safe among family members such as grandparents, uncles, aunts, cousins\"  \\\n",
       "count                                                 247                                      \n",
       "unique                                                  2                                      \n",
       "top                                              Disagree                                      \n",
       "freq                                                  124                                      \n",
       "\n",
       "       \"Children are mainly abused by strangers in our society\"  \\\n",
       "count                                                 247         \n",
       "unique                                                  2         \n",
       "top                                              Disagree         \n",
       "freq                                                  130         \n",
       "\n",
       "       Male children dont need sexual abuse prevention knowledge  \\\n",
       "count                                                 247          \n",
       "unique                                                  2          \n",
       "top                                              Disagree          \n",
       "freq                                                  137          \n",
       "\n",
       "       \"Teaching sexual abuse prevention in school is not necessary. It will make children curious about sex\"  \\\n",
       "count                                                 247                                                       \n",
       "unique                                                  2                                                       \n",
       "top                                              Disagree                                                       \n",
       "freq                                                  125                                                       \n",
       "\n",
       "       Do you know what child grooming is?  \\\n",
       "count                                  247   \n",
       "unique                                   2   \n",
       "top                                     No   \n",
       "freq                                   127   \n",
       "\n",
       "       Do you know what signs to look for to identify if your child has been abused?  \\\n",
       "count                                                 247                              \n",
       "unique                                                  2                              \n",
       "top                                                    No                              \n",
       "freq                                                  127                              \n",
       "\n",
       "       Do you think children need post abuse counseling for recovering?  \\\n",
       "count                                                 247                 \n",
       "unique                                                  2                 \n",
       "top                                                   Yes                 \n",
       "freq                                                  146                 \n",
       "\n",
       "       Do you think you should take legal action against the abuser of your child?  \\\n",
       "count                                                 247                            \n",
       "unique                                                  2                            \n",
       "top                                                   Yes                            \n",
       "freq                                                  137                            \n",
       "\n",
       "       Knowledge Level  \n",
       "count              247  \n",
       "unique               2  \n",
       "top           Beginner  \n",
       "freq               181  "
      ]
     },
     "execution_count": 48,
     "metadata": {},
     "output_type": "execute_result"
    }
   ],
   "source": [
    "data.describe()"
   ]
  },
  {
   "cell_type": "markdown",
   "id": "6606016c-02a1-43e5-a962-b4767e87c2cd",
   "metadata": {},
   "source": [
    "There is an overwhelming number of people who think that children need post abuse counselling for recovering and this is good for sociaty. "
   ]
  },
  {
   "cell_type": "code",
   "execution_count": 64,
   "id": "e937d830-fc7b-48f8-92d8-75c760c0ac2f",
   "metadata": {},
   "outputs": [
    {
     "data": {
      "text/plain": [
       "Do you think you should take legal action against the abuser of your child?\n",
       "Yes    137\n",
       "No     110\n",
       "Name: count, dtype: int64"
      ]
     },
     "execution_count": 64,
     "metadata": {},
     "output_type": "execute_result"
    }
   ],
   "source": [
    "data[\"Do you think you should take legal action against the abuser of your child?\"].value_counts()"
   ]
  },
  {
   "cell_type": "markdown",
   "id": "fa267229-56a7-40ee-8d49-db4027f22851",
   "metadata": {},
   "source": [
    "**Yes:** 137 responses\n",
    "\n",
    "**No:**  110 responses\n",
    "\n",
    "Total Responses: 247\n",
    "\n",
    "**Key Observations:**\n",
    "Majority Support Legal Action:\n",
    "\n",
    "137 responses **(55.5%)** indicate that a slight majority believes legal action should be taken against the abuser.\n",
    "\n",
    "A Significant Minority **(44.5%)** Opposes Legal Action:\n",
    "\n",
    "110 responses suggest that a substantial portion of people may not support taking legal action, possibly due to:\n",
    "\n",
    "Fear of retaliation or escalation.\n",
    "\n",
    "Cultural beliefs favoring privacy or family resolution over legal involvement.\n",
    "\n",
    "Lack of trust in the legal system or belief that it may not lead to justice."
   ]
  },
  {
   "cell_type": "code",
   "execution_count": 50,
   "id": "015eaab7-83a3-4f52-9c2d-93d4a48eeceb",
   "metadata": {},
   "outputs": [
    {
     "data": {
      "text/plain": [
       "Male children dont need sexual abuse prevention knowledge\n",
       "Disagree    137\n",
       "Agree       110\n",
       "Name: count, dtype: int64"
      ]
     },
     "execution_count": 50,
     "metadata": {},
     "output_type": "execute_result"
    }
   ],
   "source": [
    "data['Male children dont need sexual abuse prevention knowledge'].value_counts()"
   ]
  },
  {
   "cell_type": "markdown",
   "id": "740a7676-5fcc-4428-af58-b239830c9208",
   "metadata": {},
   "source": [
    "**Disagree:** 137 responses\n",
    "\n",
    "**Agree:** 110 responses\n",
    "\n",
    "Total Responses: 247\n",
    "\n",
    "**Key Observations:**\n",
    "**Majority Disagree:**\n",
    "\n",
    "137 responses **(55.5%)** disagree with the statement, meaning they believe male children do need sexual abuse prevention knowledge. This indicates awareness that boys are equally vulnerable to sexual abuse and need proper education.\n",
    "\n",
    "**A Substantial Minority Agree:**\n",
    "\n",
    "110 responses **(44.5%)** agree, suggesting some still hold the view that male children do not need specific prevention education, possibly due to traditional beliefs or misconceptions about male vulnerability to sexual abuse.\n",
    "\n",
    "**Implications:**\n",
    "**Awareness Gap:** The responses suggest that while the majority recognizes the need for sexual abuse prevention for boys, a significant portion still holds outdated or incorrect beliefs about the risks boys face.\n",
    "\n",
    "**Need for Education:** This highlights the importance of promoting inclusive sexual abuse prevention programs for both genders, as male children are also at risk.\n"
   ]
  },
  {
   "cell_type": "code",
   "execution_count": 52,
   "id": "f356173d-0fae-468b-9f11-6e5a3f71682f",
   "metadata": {},
   "outputs": [
    {
     "data": {
      "text/html": [
       "<div>\n",
       "<style scoped>\n",
       "    .dataframe tbody tr th:only-of-type {\n",
       "        vertical-align: middle;\n",
       "    }\n",
       "\n",
       "    .dataframe tbody tr th {\n",
       "        vertical-align: top;\n",
       "    }\n",
       "\n",
       "    .dataframe thead th {\n",
       "        text-align: right;\n",
       "    }\n",
       "</style>\n",
       "<table border=\"1\" class=\"dataframe\">\n",
       "  <thead>\n",
       "    <tr style=\"text-align: right;\">\n",
       "      <th></th>\n",
       "      <th>count</th>\n",
       "      <th>unique</th>\n",
       "      <th>top</th>\n",
       "      <th>freq</th>\n",
       "    </tr>\n",
       "    <tr>\n",
       "      <th>Knowledge Level</th>\n",
       "      <th></th>\n",
       "      <th></th>\n",
       "      <th></th>\n",
       "      <th></th>\n",
       "    </tr>\n",
       "  </thead>\n",
       "  <tbody>\n",
       "    <tr>\n",
       "      <th>Beginner</th>\n",
       "      <td>181</td>\n",
       "      <td>2</td>\n",
       "      <td>Agree</td>\n",
       "      <td>96</td>\n",
       "    </tr>\n",
       "    <tr>\n",
       "      <th>Intermediate</th>\n",
       "      <td>66</td>\n",
       "      <td>2</td>\n",
       "      <td>Disagree</td>\n",
       "      <td>39</td>\n",
       "    </tr>\n",
       "  </tbody>\n",
       "</table>\n",
       "</div>"
      ],
      "text/plain": [
       "                count unique       top freq\n",
       "Knowledge Level                            \n",
       "Beginner          181      2     Agree   96\n",
       "Intermediate       66      2  Disagree   39"
      ]
     },
     "execution_count": 52,
     "metadata": {},
     "output_type": "execute_result"
    }
   ],
   "source": [
    "data.groupby('Knowledge Level')['\"Children are safe among family members such as grandparents, uncles, aunts, cousins\"'].describe()"
   ]
  },
  {
   "cell_type": "markdown",
   "id": "e55a005b-3239-41b2-84ff-4db784b60ce8",
   "metadata": {},
   "source": [
    "Beginners (1,711 respondents): Most common response is \"Agree\" (969 responses, ~56.6%).\n",
    "\n",
    "Intermediates (1,291 respondents): Most common response is \"Disagree\" (890 responses, ~68.9%).\n",
    "\n",
    "\n",
    "Beginners tend to agree more, possibly due to limited knowledge or exposure.\n",
    "\n",
    "Intermediates disagree more, suggesting that increased knowledge leads to a shift in perspective.\n",
    "\n",
    "There may be a correlation between knowledge level and critical thinking on the topic."
   ]
  },
  {
   "cell_type": "code",
   "execution_count": 70,
   "id": "ee32b479-f8b0-49a1-998f-8693b9c60182",
   "metadata": {},
   "outputs": [
    {
     "name": "stdout",
     "output_type": "stream",
     "text": [
      "Knowledge Level                                     Beginner  Intermediate\n",
      "Male children dont need sexual abuse prevention...                        \n",
      "Agree                                                     88            22\n",
      "Disagree                                                  93            44\n"
     ]
    }
   ],
   "source": [
    "cross_tab = pd.crosstab(data['Male children dont need sexual abuse prevention knowledge'], data['Knowledge Level'])\n",
    "print(cross_tab)"
   ]
  },
  {
   "cell_type": "markdown",
   "id": "9fa7002e-c87c-4675-b996-5ed6fe28b515",
   "metadata": {},
   "source": [
    "**Beginners (181 total):**\n",
    "\n",
    "**Agree:** 88 (48.2% of Beginner respondents)\n",
    "\n",
    "**Disagree:** 93 (51.8% of Beginner respondents)\n",
    "\n",
    "**Intermediates (66 total):**\n",
    "\n",
    "**Agree:** 22 (33.3% of Intermediate respondents)\n",
    "\n",
    "**Disagree:** 44 (66.7% of Intermediate respondents)\n",
    "\n",
    "**Key Insights:**\n",
    "**Beginners:** Slightly more than half disagree with the statement (51.8%), but a significant portion still agrees (48.2%).\n",
    "\n",
    "**intermediates:** A stronger disagreement (66.7%) is observed among those with more knowledge, showing that increased knowledge results in a greater understanding of the need for abuse prevention education for boys.\n",
    "\n",
    "**Conclusion:**\n",
    "Knowledge impacts perspective: As respondents' knowledge level increases, they are more likely to reject the idea that male children don't need abuse prevention education."
   ]
  },
  {
   "cell_type": "code",
   "execution_count": 37,
   "id": "e820d5e8-efe9-4265-8733-a5cc23efe6e7",
   "metadata": {},
   "outputs": [
    {
     "name": "stdout",
     "output_type": "stream",
     "text": [
      "Knowledge Level\n",
      "Beginner        0.569953\n",
      "Intermediate    0.430047\n",
      "Name: proportion, dtype: float64\n"
     ]
    }
   ],
   "source": [
    "print(data['Knowledge Level'].value_counts(normalize=True))  "
   ]
  },
  {
   "cell_type": "markdown",
   "id": "89fcdd4d-75ed-424d-8f67-982a61c300f2",
   "metadata": {},
   "source": [
    "56% of the people have beginner knowledge level."
   ]
  },
  {
   "cell_type": "markdown",
   "id": "e080f348-8f28-4d24-9c33-8ec47dc1caa3",
   "metadata": {},
   "source": [
    "**CONCLUSION**"
   ]
  },
  {
   "cell_type": "markdown",
   "id": "86b8ef9a-463e-408d-a02f-183aabc31887",
   "metadata": {},
   "source": [
    "\n",
    "**Awareness of Family Abuse:** The disagreement with the idea that children are safe among family members indicates that respondents are aware of the risks that exist even within families.\n",
    "\n",
    "**Strangers as Abusers:** The disagreement with the idea that children are mainly abused by strangers reflects a broader understanding that the abusers are often close to the child.\n",
    "\n",
    "**Male Children and Prevention Knowledge:** The disagreement with the notion that male children don't need sexual abuse prevention shows growing recognition that both genders require education on this issue.\n",
    "\n",
    "**Sexual Abuse Prevention in Schools:** The disagreement with the statement that teaching sexual abuse prevention in schools will cause curiosity about sex suggests that respondents support preventative education as crucial to children's safety.\n",
    "\n",
    "**Knowledge Gaps in Grooming and Abuse Signs:** The \"No\" responses to knowing about child grooming and identifying signs of abuse indicate a need for further education and awareness in these areas.\n",
    "\n",
    "**Post-Abuse Counseling and Legal Action:** The agreement that children need post-abuse counseling and that legal action should be taken against abusers reflects strong advocacy for victim support and accountability.\n",
    "\n",
    "This data reveals that while there is significant awareness of the need for prevention, support, and legal action, there are also notable gaps in knowledge regarding specific aspects like child grooming and identifying signs of abuse. The results suggest the importance of expanding education on these topics, especially in communities where such knowledge is lacking.\n",
    "\n"
   ]
  }
 ],
 "metadata": {
  "kernelspec": {
   "display_name": "Python [conda env:base] *",
   "language": "python",
   "name": "conda-base-py"
  },
  "language_info": {
   "codemirror_mode": {
    "name": "ipython",
    "version": 3
   },
   "file_extension": ".py",
   "mimetype": "text/x-python",
   "name": "python",
   "nbconvert_exporter": "python",
   "pygments_lexer": "ipython3",
   "version": "3.12.7"
  }
 },
 "nbformat": 4,
 "nbformat_minor": 5
}
